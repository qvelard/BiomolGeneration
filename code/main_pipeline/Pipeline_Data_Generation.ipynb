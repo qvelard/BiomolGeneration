{
 "cells": [
  {
   "cell_type": "markdown",
   "metadata": {},
   "source": [
    "# 1. Data Augmentation Layer"
   ]
  },
  {
   "cell_type": "markdown",
   "metadata": {},
   "source": [
    "Les permutations aléatoires de SMILES et les tautomères ne changent pas les propriétés chimiques fondamentales de la molécule, mais il est important de comprendre les différences entre les deux :\n",
    "\n",
    "\n",
    "### 1. Permutations aléatoires de SMILES :\n",
    "\n",
    "- Les permutations aléatoires de SMILES génèrent différentes représentations linéaires de la même molécule. Elles ne changent pas la structure chimique ou les propriétés chimiques de la molécule. Elles sont simplement des réarrangements de la notation SMILES.\n",
    "- source : https://www.rdkit.org/docs/source/rdkit.Chem.rdmolfiles.html#rdkit.Chem.rdmolfiles.MolToSmiles\n",
    "  \n",
    "### 2. Tautomères :\n",
    "\n",
    "- Les tautomères sont des isomères de la même molécule qui diffèrent par la position des protons et des doubles liaisons. Bien que les tautomères aient les mêmes atomes et la même formule moléculaire, ils peuvent avoir des propriétés chimiques légèrement différentes en raison de la répartition différente des électrons.\n",
    "- source :https://en.wikipedia.org/wiki/Tautomer\n",
    "\n",
    "### 3. Remplacement par un groupe chimique de la meme classe fonctionnel\n",
    "\n",
    "Remplacer un groupe fonctionnel par un autre de la même classe chimique. Par exemple, remplacer un groupe hydroxyle par un groupe méthoxy tout en conservant les propriétés de la molécule."
   ]
  },
  {
   "cell_type": "code",
   "execution_count": 10,
   "metadata": {},
   "outputs": [],
   "source": [
    "import pandas as pd\n",
    "from rdkit import Chem\n",
    "from rdkit.Chem import AllChem\n",
    "from rdkit.Chem.MolStandardize import rdMolStandardize\n",
    "import random"
   ]
  },
  {
   "cell_type": "code",
   "execution_count": 14,
   "metadata": {},
   "outputs": [
    {
     "name": "stdout",
     "output_type": "stream",
     "text": [
      "                                           isosmiles      mw  xlogp  \\\n",
      "0                                      CCCCCCCC(=O)O  144.21    3.0   \n",
      "1  C1=CC(=CC=C1C(=O)N[C@@H](CCC(=O)O)C(=O)O)NCC2=...  441.40   -1.1   \n",
      "2                                            CC(=O)C   58.08   -0.1   \n",
      "3                               CC(=CCC/C(=C/CO)/C)C  154.25    2.9   \n",
      "4                                     C1=COC(=C1)C=O   96.08    0.4   \n",
      "\n",
      "   polararea  rotbonds  hbonddonor  hbondacc  charge  anti_inflammatory  \n",
      "0       37.3         6           1         2       0                  0  \n",
      "1      209.0         9           6        10       0                  0  \n",
      "2       17.1         0           0         1       0                  0  \n",
      "3       20.2         4           1         1       0                  0  \n",
      "4       30.2         1           0         2       0                  0  \n",
      "1883\n"
     ]
    }
   ],
   "source": [
    "df = pd.read_csv('C:/Users/quent/Data Science/Mines/Projet/Processed_Anti_Inflammatory_Compounds.csv')\n",
    "print(df.head())\n",
    "# List to store new rows\n",
    "print(len(df))\n"
   ]
  },
  {
   "cell_type": "markdown",
   "metadata": {},
   "source": [
    "## 1.1 Permutation de la molécule"
   ]
  },
  {
   "cell_type": "code",
   "execution_count": 19,
   "metadata": {},
   "outputs": [
    {
     "name": "stdout",
     "output_type": "stream",
     "text": [
      "['C(CCCC(O)=O)CCC', 'C(CC)CCCCC(O)=O', 'C(CCCCC(O)=O)CC', 'C(CCCCCCC)(=O)O']\n"
     ]
    }
   ],
   "source": [
    "def augment_smiles(smiles, num_augmentations=4):\n",
    "    mol = Chem.MolFromSmiles(smiles)\n",
    "    augmented_smiles = set()\n",
    "    \n",
    "    for _ in range(num_augmentations):\n",
    "        # Generate a random permutation of the SMILES\n",
    "        random_smiles = Chem.MolToSmiles(mol, doRandom=True)\n",
    "        augmented_smiles.add(random_smiles)\n",
    "    \n",
    "    return list(augmented_smiles)\n",
    "\n",
    "# Example usage\n",
    "original_smiles = \"CCCCCCCC(=O)O\"\n",
    "augmented_smiles_list = augment_smiles(original_smiles)\n",
    "print(augmented_smiles_list)\n"
   ]
  },
  {
   "cell_type": "markdown",
   "metadata": {},
   "source": [
    "# 1.2 Tautomérisation\n"
   ]
  },
  {
   "cell_type": "code",
   "execution_count": 36,
   "metadata": {},
   "outputs": [
    {
     "name": "stdout",
     "output_type": "stream",
     "text": [
      "['N=c1[nH]c(=O)c2nc(CN=C3C=CC(=C(O)NC(CC=C(O)O)=C(O)O)C=C3)cnc2[nH]1', 'N=c1[nH]c(=O)c2nc(CN=C3C=CC(=C(O)NC(CC=C(O)O)C(=O)O)C=C3)cnc2[nH]1']\n",
      "2\n"
     ]
    }
   ],
   "source": [
    "import os\n",
    "import sys\n",
    "def suppress_rdkit_warnings():\n",
    "    from rdkit import rdBase\n",
    "    rdBase.DisableLog('rdApp.error')\n",
    "    rdBase.DisableLog('rdApp.warning')\n",
    "\n",
    "def generate_tautomers(smiles, max_tautomers=2):\n",
    "    mol = Chem.MolFromSmiles(smiles)\n",
    "    enumerator = rdMolStandardize.TautomerEnumerator()\n",
    "    tautomers = enumerator.Enumerate(mol)\n",
    "    \n",
    "    tautomers_smiles = []\n",
    "    for tautomer in tautomers:\n",
    "        tautomers_smiles.append(Chem.MolToSmiles(tautomer))\n",
    "        if len(tautomers_smiles) >= max_tautomers:\n",
    "            break\n",
    "    \n",
    "    return tautomers_smiles\n",
    "\n",
    "# Suppress RDKit warnings\n",
    "suppress_rdkit_warnings()\n",
    "\n",
    "# Example usage\n",
    "original_smiles = \"C1=CC(=CC=C1C(=O)N[C@@H](CCC(=O)O)C(=O)O)NCC2=CN=C3C(=N2)C(=O)NC(=N3)N\"\n",
    "tautomers_list = generate_tautomers(original_smiles, max_tautomers=2)\n",
    "print(tautomers_list)\n",
    "print(len(tautomers_list))"
   ]
  },
  {
   "cell_type": "markdown",
   "metadata": {},
   "source": [
    "# 1.3 Remplacement par un groupe fonctionnel de la meme famille"
   ]
  },
  {
   "cell_type": "markdown",
   "metadata": {},
   "source": [
    "ça ne marche pas c'était juste un test"
   ]
  },
  {
   "cell_type": "code",
   "execution_count": 31,
   "metadata": {},
   "outputs": [
    {
     "name": "stdout",
     "output_type": "stream",
     "text": [
      "Original SMILES: CC(=O)O\n",
      "Error with SMARTS [C(=O)OH:1]>>[C(=O)OCH3:1]: ChemicalReactionParserException: Problems constructing reactant from SMARTS: [C(=O)OH:1]\n",
      "Replaced SMILES: ['CC(=O)[OH3]']\n",
      "\n",
      "Original SMILES: C1=CC(=O)NC=C1\n",
      "Error with SMARTS [C(=O)OH:1]>>[C(=O)OCH3:1]: ChemicalReactionParserException: Problems constructing reactant from SMARTS: [C(=O)OH:1]\n",
      "Replaced SMILES: []\n",
      "\n",
      "Original SMILES: CC(C)O\n",
      "Error with SMARTS [C(=O)OH:1]>>[C(=O)OCH3:1]: ChemicalReactionParserException: Problems constructing reactant from SMARTS: [C(=O)OH:1]\n",
      "Replaced SMILES: ['CC(C)[OH3]']\n",
      "\n",
      "Error with SMARTS [C(=O)OH:1]>>[C(=O)OCH3:1]: ChemicalReactionParserException: Problems constructing reactant from SMARTS: [C(=O)OH:1]\n",
      "['CC(=O)[OH3]']\n"
     ]
    },
    {
     "name": "stderr",
     "output_type": "stream",
     "text": [
      "[18:49:03] atom 0 in product 0 has multiple H count specifications.\n",
      "[18:49:03] SMARTS Parse Error: syntax error while parsing: [C(=O)OH:1]\n",
      "[18:49:03] SMARTS Parse Error: Failed parsing SMARTS '[C(=O)OH:1]' for input: '[C(=O)OH:1]'\n",
      "[18:49:03] atom 0 in product 0 has multiple H count specifications.\n",
      "[18:49:03] SMARTS Parse Error: syntax error while parsing: [C(=O)OH:1]\n",
      "[18:49:03] SMARTS Parse Error: Failed parsing SMARTS '[C(=O)OH:1]' for input: '[C(=O)OH:1]'\n",
      "[18:49:03] atom 0 in product 0 has multiple H count specifications.\n",
      "[18:49:03] SMARTS Parse Error: syntax error while parsing: [C(=O)OH:1]\n",
      "[18:49:03] SMARTS Parse Error: Failed parsing SMARTS '[C(=O)OH:1]' for input: '[C(=O)OH:1]'\n",
      "[18:49:03] atom 0 in product 0 has multiple H count specifications.\n",
      "[18:49:03] SMARTS Parse Error: syntax error while parsing: [C(=O)OH:1]\n",
      "[18:49:03] SMARTS Parse Error: Failed parsing SMARTS '[C(=O)OH:1]' for input: '[C(=O)OH:1]'\n"
     ]
    }
   ],
   "source": [
    "from rdkit import Chem\n",
    "from rdkit.Chem import AllChem\n",
    "\n",
    "def replace_functional_groups(smiles, replacements, max_replacements=10):\n",
    "    mol = Chem.MolFromSmiles(smiles)\n",
    "    augmented_smiles = set()\n",
    "    \n",
    "    for smarts, replacement in replacements:\n",
    "        try:\n",
    "            rxn = AllChem.ReactionFromSmarts(f'{smarts}>>{replacement}')\n",
    "            products = rxn.RunReactants((mol,))\n",
    "            for product_set in products:\n",
    "                for product in product_set:\n",
    "                    augmented_smiles.add(Chem.MolToSmiles(product))\n",
    "                    if len(augmented_smiles) >= max_replacements:\n",
    "                        return list(augmented_smiles)\n",
    "        except Exception as e:\n",
    "            print(f\"Error with SMARTS {smarts}>>{replacement}: {e}\")\n",
    "    \n",
    "    return list(augmented_smiles)\n",
    "\n",
    "# Define functional group replacements (example)\n",
    "replacements = [\n",
    "    ('[OH:1]', '[OCH3:1]'),  # Replace hydroxyl with methoxy\n",
    "    ('[NH2:1]', '[NHCH3:1]'),  # Replace amine with methylamine\n",
    "    ('[C(=O)OH:1]', '[C(=O)OCH3:1]')  # Replace carboxyl with ester\n",
    "]\n",
    "\n",
    "# Test the function with example SMILES\n",
    "test_smiles = [\n",
    "    \"CC(=O)O\",  # Acetic acid\n",
    "    \"C1=CC(=O)NC=C1\",  # Pyridine-2-one\n",
    "    \"CC(C)O\",  # Isopropanol\n",
    "]\n",
    "\n",
    "for smiles in test_smiles:\n",
    "    print(f\"Original SMILES: {smiles}\")\n",
    "    replaced_smiles = replace_functional_groups(smiles, replacements)\n",
    "    print(f\"Replaced SMILES: {replaced_smiles}\\n\")\n",
    "\n",
    "# Example usage\n",
    "original_smiles = \"CC(=O)O\"\n",
    "replaced_smiles_list = replace_functional_groups(original_smiles, replacements)\n",
    "print(replaced_smiles_list)"
   ]
  },
  {
   "cell_type": "markdown",
   "metadata": {},
   "source": [
    "# Fonction d'assemblage des différentes fonctions (tautomères + permutations)"
   ]
  },
  {
   "cell_type": "code",
   "execution_count": 37,
   "metadata": {},
   "outputs": [
    {
     "name": "stdout",
     "output_type": "stream",
     "text": [
      "                                           isosmiles      mw  xlogp  \\\n",
      "0                                      CCCCCCCC(=O)O  144.21    3.0   \n",
      "1  C1=CC(=CC=C1C(=O)N[C@@H](CCC(=O)O)C(=O)O)NCC2=...  441.40   -1.1   \n",
      "2                                            CC(=O)C   58.08   -0.1   \n",
      "3                               CC(=CCC/C(=C/CO)/C)C  154.25    2.9   \n",
      "4                                     C1=COC(=C1)C=O   96.08    0.4   \n",
      "\n",
      "   polararea  rotbonds  hbonddonor  hbondacc  charge  anti_inflammatory  \n",
      "0       37.3         6           1         2       0                  0  \n",
      "1      209.0         9           6        10       0                  0  \n",
      "2       17.1         0           0         1       0                  0  \n",
      "3       20.2         4           1         1       0                  0  \n",
      "4       30.2         1           0         2       0                  0  \n"
     ]
    }
   ],
   "source": [
    "def augment_data(df, generate_tautomers_flag=True, generate_permutations_flag=True, max_tautomers=10, num_augmentations=10):\n",
    "    new_rows = []\n",
    "\n",
    "    # Process each row in the DataFrame\n",
    "    for index, row in df.iterrows():\n",
    "        if row['anti_inflammatory'] == 1:\n",
    "            smiles = row['isosmiles']\n",
    "            \n",
    "            if generate_tautomers_flag:\n",
    "                tautomers = generate_tautomers(smiles, max_tautomers=5)\n",
    "                for tautomer in tautomers:\n",
    "                    new_row = row.copy()\n",
    "                    new_row['isosmiles'] = tautomer\n",
    "                    new_rows.append(new_row)\n",
    "            \n",
    "            if generate_permutations_flag:\n",
    "                augmented_smiles = augment_smiles(smiles, num_augmentations)\n",
    "                for aug_smiles in augmented_smiles:\n",
    "                    new_row = row.copy()\n",
    "                    new_row['isosmiles'] = aug_smiles\n",
    "                    new_rows.append(new_row)\n",
    "     # Create a new DataFrame with the original and new rows\n",
    "    new_df = pd.concat([df, pd.DataFrame(new_rows)], ignore_index=True)\n",
    "    return new_df\n",
    "\n",
    "# Suppress RDKit warnings\n",
    "suppress_rdkit_warnings()\n",
    "# Create a new DataFrame with the original and new rows\n",
    "new_df_all = augment_data(df, generate_tautomers_flag=True, generate_permutations_flag=True, max_tautomers=10, num_augmentations=10)\n",
    "##new_df_permut = augment_data(df, generate_tautomers_flag=False, generate_permutations_flag=True, max_tautomers=10, num_augmentations=10)\n",
    "print(new_df_all.head())\n",
    "#print(len(new_df))"
   ]
  },
  {
   "cell_type": "code",
   "execution_count": 33,
   "metadata": {},
   "outputs": [
    {
     "name": "stdout",
     "output_type": "stream",
     "text": [
      "14333\n"
     ]
    }
   ],
   "source": [
    "print(len(new_df_all))"
   ]
  },
  {
   "cell_type": "markdown",
   "metadata": {},
   "source": [
    "# Core"
   ]
  },
  {
   "cell_type": "code",
   "execution_count": 46,
   "metadata": {},
   "outputs": [
    {
     "name": "stdout",
     "output_type": "stream",
     "text": [
      "Descripteurs moléculaires : {'MaxAbsEStateIndex': 7.569444444444445, 'MaxEStateIndex': 7.569444444444445, 'MinAbsEStateIndex': 0.25, 'MinEStateIndex': 0.25, 'qed': 0.4068079656553945, 'SPS': 6.0, 'MolWt': 46.069, 'HeavyAtomMolWt': 40.021, 'ExactMolWt': 46.041864812, 'NumValenceElectrons': 20, 'NumRadicalElectrons': 0, 'MaxPartialCharge': 0.04022058174908642, 'MinPartialCharge': -0.3966637147812598, 'MaxAbsPartialCharge': 0.3966637147812598, 'MinAbsPartialCharge': 0.04022058174908642, 'FpDensityMorgan1': 2.0, 'FpDensityMorgan2': 2.0, 'FpDensityMorgan3': 2.0, 'BCUT2D_MWHI': 16.248991329327914, 'BCUT2D_MWLOW': 10.908168035086371, 'BCUT2D_CHGHI': 1.3402935186707783, 'BCUT2D_CHGLO': -1.52235869276019, 'BCUT2D_LOGPHI': 1.2962426382141046, 'BCUT2D_LOGPLOW': -1.5683635470355741, 'BCUT2D_MRHI': 3.835802335589486, 'BCUT2D_MRLOW': 0.3184056131739115, 'AvgIpc': 0.9182958340544894, 'BalabanJ': 1.6329931618554523, 'BertzCT': 2.7548875021634682, 'Chi0': 2.7071067811865475, 'Chi0n': 2.1543203766865053, 'Chi0v': 2.1543203766865053, 'Chi1': 1.4142135623730951, 'Chi1n': 1.0233345472033855, 'Chi1v': 1.0233345472033855, 'Chi2n': 0.3162277660168379, 'Chi2v': 0.3162277660168379, 'Chi3n': 0.0, 'Chi3v': 0.0, 'Chi4n': 0.0, 'Chi4v': 0.0, 'HallKierAlpha': -0.04, 'Ipc': 2.7548875021634682, 'Kappa1': 2.9600000000000004, 'Kappa2': 1.96, 'Kappa3': 1.9600000000000033, 'LabuteASA': 19.89842689442217, 'PEOE_VSA1': 5.106527394840706, 'PEOE_VSA10': 0.0, 'PEOE_VSA11': 0.0, 'PEOE_VSA12': 0.0, 'PEOE_VSA13': 0.0, 'PEOE_VSA14': 0.0, 'PEOE_VSA2': 0.0, 'PEOE_VSA3': 0.0, 'PEOE_VSA4': 0.0, 'PEOE_VSA5': 0.0, 'PEOE_VSA6': 0.0, 'PEOE_VSA7': 6.923737199690624, 'PEOE_VSA8': 6.606881964512918, 'PEOE_VSA9': 0.0, 'SMR_VSA1': 5.106527394840706, 'SMR_VSA10': 0.0, 'SMR_VSA2': 0.0, 'SMR_VSA3': 0.0, 'SMR_VSA4': 0.0, 'SMR_VSA5': 6.923737199690624, 'SMR_VSA6': 6.606881964512918, 'SMR_VSA7': 0.0, 'SMR_VSA8': 0.0, 'SMR_VSA9': 0.0, 'SlogP_VSA1': 0.0, 'SlogP_VSA10': 0.0, 'SlogP_VSA11': 0.0, 'SlogP_VSA12': 0.0, 'SlogP_VSA2': 11.713409359353623, 'SlogP_VSA3': 0.0, 'SlogP_VSA4': 0.0, 'SlogP_VSA5': 6.923737199690624, 'SlogP_VSA6': 0.0, 'SlogP_VSA7': 0.0, 'SlogP_VSA8': 0.0, 'SlogP_VSA9': 0.0, 'TPSA': 20.23, 'EState_VSA1': 0.0, 'EState_VSA10': 0.0, 'EState_VSA11': 0.0, 'EState_VSA2': 6.606881964512918, 'EState_VSA3': 0.0, 'EState_VSA4': 0.0, 'EState_VSA5': 0.0, 'EState_VSA6': 6.923737199690624, 'EState_VSA7': 0.0, 'EState_VSA8': 0.0, 'EState_VSA9': 5.106527394840706, 'VSA_EState1': 0.0, 'VSA_EState10': 0.0, 'VSA_EState2': 0.0, 'VSA_EState3': 7.569444444444445, 'VSA_EState4': 0.0, 'VSA_EState5': 0.0, 'VSA_EState6': 0.0, 'VSA_EState7': 0.0, 'VSA_EState8': 1.9305555555555556, 'VSA_EState9': 0.0, 'FractionCSP3': 1.0, 'HeavyAtomCount': 3, 'NHOHCount': 1, 'NOCount': 1, 'NumAliphaticCarbocycles': 0, 'NumAliphaticHeterocycles': 0, 'NumAliphaticRings': 0, 'NumAromaticCarbocycles': 0, 'NumAromaticHeterocycles': 0, 'NumAromaticRings': 0, 'NumHAcceptors': 1, 'NumHDonors': 1, 'NumHeteroatoms': 1, 'NumRotatableBonds': 0, 'NumSaturatedCarbocycles': 0, 'NumSaturatedHeterocycles': 0, 'NumSaturatedRings': 0, 'RingCount': 0, 'MolLogP': -0.0014000000000000123, 'MolMR': 12.759800000000002, 'fr_Al_COO': 0, 'fr_Al_OH': 1, 'fr_Al_OH_noTert': 1, 'fr_ArN': 0, 'fr_Ar_COO': 0, 'fr_Ar_N': 0, 'fr_Ar_NH': 0, 'fr_Ar_OH': 0, 'fr_COO': 0, 'fr_COO2': 0, 'fr_C_O': 0, 'fr_C_O_noCOO': 0, 'fr_C_S': 0, 'fr_HOCCN': 0, 'fr_Imine': 0, 'fr_NH0': 0, 'fr_NH1': 0, 'fr_NH2': 0, 'fr_N_O': 0, 'fr_Ndealkylation1': 0, 'fr_Ndealkylation2': 0, 'fr_Nhpyrrole': 0, 'fr_SH': 0, 'fr_aldehyde': 0, 'fr_alkyl_carbamate': 0, 'fr_alkyl_halide': 0, 'fr_allylic_oxid': 0, 'fr_amide': 0, 'fr_amidine': 0, 'fr_aniline': 0, 'fr_aryl_methyl': 0, 'fr_azide': 0, 'fr_azo': 0, 'fr_barbitur': 0, 'fr_benzene': 0, 'fr_benzodiazepine': 0, 'fr_bicyclic': 0, 'fr_diazo': 0, 'fr_dihydropyridine': 0, 'fr_epoxide': 0, 'fr_ester': 0, 'fr_ether': 0, 'fr_furan': 0, 'fr_guanido': 0, 'fr_halogen': 0, 'fr_hdrzine': 0, 'fr_hdrzone': 0, 'fr_imidazole': 0, 'fr_imide': 0, 'fr_isocyan': 0, 'fr_isothiocyan': 0, 'fr_ketone': 0, 'fr_ketone_Topliss': 0, 'fr_lactam': 0, 'fr_lactone': 0, 'fr_methoxy': 0, 'fr_morpholine': 0, 'fr_nitrile': 0, 'fr_nitro': 0, 'fr_nitro_arom': 0, 'fr_nitro_arom_nonortho': 0, 'fr_nitroso': 0, 'fr_oxazole': 0, 'fr_oxime': 0, 'fr_para_hydroxylation': 0, 'fr_phenol': 0, 'fr_phenol_noOrthoHbond': 0, 'fr_phos_acid': 0, 'fr_phos_ester': 0, 'fr_piperdine': 0, 'fr_piperzine': 0, 'fr_priamide': 0, 'fr_prisulfonamd': 0, 'fr_pyridine': 0, 'fr_quatN': 0, 'fr_sulfide': 0, 'fr_sulfonamd': 0, 'fr_sulfone': 0, 'fr_term_acetylene': 0, 'fr_tetrazole': 0, 'fr_thiazole': 0, 'fr_thiocyan': 0, 'fr_thiophene': 0, 'fr_unbrch_alkane': 0, 'fr_urea': 0}\n"
     ]
    },
    {
     "name": "stderr",
     "output_type": "stream",
     "text": [
      "[20:15:05] DEPRECATION WARNING: please use MorganGenerator\n",
      "[20:15:05] DEPRECATION WARNING: please use MorganGenerator\n",
      "[20:15:05] DEPRECATION WARNING: please use MorganGenerator\n"
     ]
    }
   ],
   "source": [
    "from rdkit import Chem\n",
    "from rdkit.Chem import Descriptors\n",
    "from rdkit.ML.Descriptors import MoleculeDescriptors\n",
    "\n",
    "from rdkit.ML.Descriptors import MoleculeDescriptors\n",
    "\n",
    "smiles = \"CCO\"  # Exemple de SMILES\n",
    "mol = Chem.MolFromSmiles(smiles)\n",
    "descriptor_names = [desc[0] for desc in Descriptors._descList]\n",
    "calculator = MoleculeDescriptors.MolecularDescriptorCalculator(descriptor_names)\n",
    "descriptors = calculator.CalcDescriptors(mol)\n",
    "descriptors_dict = dict(zip(descriptor_names, descriptors))\n",
    "print(\"Descripteurs moléculaires :\", descriptors_dict)  # Afficher les descripteurs moléculaires"
   ]
  },
  {
   "cell_type": "code",
   "execution_count": 47,
   "metadata": {},
   "outputs": [
    {
     "name": "stdout",
     "output_type": "stream",
     "text": [
      "SMILES: CCO, Prediction: Antioxidant\n",
      "SMILES: CC(=O)O, Prediction: Antioxidant\n",
      "SMILES: CCN, Prediction: Antioxidant\n"
     ]
    },
    {
     "name": "stderr",
     "output_type": "stream",
     "text": [
      "[20:17:07] DEPRECATION WARNING: please use MorganGenerator\n",
      "[20:17:07] DEPRECATION WARNING: please use MorganGenerator\n",
      "[20:17:07] DEPRECATION WARNING: please use MorganGenerator\n",
      "[20:17:07] DEPRECATION WARNING: please use MorganGenerator\n",
      "[20:17:07] DEPRECATION WARNING: please use MorganGenerator\n",
      "[20:17:07] DEPRECATION WARNING: please use MorganGenerator\n",
      "[20:17:07] DEPRECATION WARNING: please use MorganGenerator\n",
      "[20:17:07] DEPRECATION WARNING: please use MorganGenerator\n",
      "[20:17:07] DEPRECATION WARNING: please use MorganGenerator\n"
     ]
    }
   ],
   "source": [
    "from rdkit import Chem\n",
    "from rdkit.Chem import Descriptors\n",
    "from rdkit.ML.Descriptors import MoleculeDescriptors\n",
    "\n",
    "def predict_properties(smiles_list):\n",
    "    descriptor_names = [desc[0] for desc in Descriptors._descList]\n",
    "    calculator = MoleculeDescriptors.MolecularDescriptorCalculator(descriptor_names)\n",
    "    \n",
    "    predictions = []\n",
    "    for smiles in smiles_list:\n",
    "        mol = Chem.MolFromSmiles(smiles)\n",
    "        if mol is None:\n",
    "            continue\n",
    "        descriptors = calculator.CalcDescriptors(mol)\n",
    "        \n",
    "        # Hypothetical rules for prediction\n",
    "        mw = descriptors[descriptor_names.index('MolWt')]\n",
    "        logp = descriptors[descriptor_names.index('MolLogP')]\n",
    "        \n",
    "        if mw < 300 and logp < 3:\n",
    "            prediction = 'Antioxidant'\n",
    "        else:\n",
    "            prediction = 'Anti-inflammatory'\n",
    "        \n",
    "        predictions.append((smiles, prediction))\n",
    "    \n",
    "    return predictions\n",
    "\n",
    "# Example SMILES list\n",
    "smiles_list = [\"CCO\", \"CC(=O)O\", \"CCN\"]\n",
    "\n",
    "# Predict properties\n",
    "predictions = predict_properties(smiles_list)\n",
    "\n",
    "# Print predictions\n",
    "for smiles, prediction in predictions:\n",
    "    print(f\"SMILES: {smiles}, Prediction: {prediction}\")"
   ]
  },
  {
   "cell_type": "code",
   "execution_count": null,
   "metadata": {},
   "outputs": [],
   "source": [
    "import pickle\n",
    "from rdkit import Chem\n",
    "from rdkit.Chem import Descriptors\n",
    "from rdkit.ML.Descriptors import MoleculeDescriptors\n",
    "\n",
    "# Load the pre-trained model\n",
    "with open('model.pkl', 'rb') as f:\n",
    "    model = pickle.load(f)\n",
    "\n",
    "def predict_properties(smiles_list):\n",
    "    descriptor_names = [desc[0] for desc in Descriptors._descList]\n",
    "    calculator = MoleculeDescriptors.MolecularDescriptorCalculator(descriptor_names)\n",
    "    \n",
    "    predictions = []\n",
    "    for smiles in smiles_list:\n",
    "        mol = Chem.MolFromSmiles(smiles)\n",
    "        if mol is None:\n",
    "            continue\n",
    "        descriptors = calculator.CalcDescriptors(mol)\n",
    "        prediction = model.predict([descriptors])\n",
    "        predictions.append((smiles, prediction[0]))\n",
    "    \n",
    "    return predictions\n",
    "\n",
    "# Example SMILES list\n",
    "smiles_list = [\"CCO\", \"CC(=O)O\", \"CCN\"]\n",
    "\n",
    "# Predict properties\n",
    "predictions = predict_properties(smiles_list)\n",
    "\n",
    "# Print predictions\n",
    "for smiles, prediction in predictions:\n",
    "    print(f\"SMILES: {smiles}, Prediction: {'Antioxidant' if prediction == 1 else 'Anti-inflammatory'}\")"
   ]
  },
  {
   "cell_type": "markdown",
   "metadata": {},
   "source": [
    "# PCA"
   ]
  },
  {
   "cell_type": "code",
   "execution_count": 9,
   "metadata": {},
   "outputs": [
    {
     "name": "stdout",
     "output_type": "stream",
     "text": [
      "Variance expliquée par chaque composante : [8.95097890e-01 6.73211630e-02 3.75809475e-02 2.41859086e-34]\n",
      "Variance expliquée cumulée : [0.89509789 0.96241905 1.         1.        ]\n"
     ]
    },
    {
     "data": {
      "image/png": "[encoded data removed]",
      "text/plain": [
       "<Figure size 800x500 with 1 Axes>"
      ]
     },
     "metadata": {},
     "output_type": "display_data"
    },
    {
     "name": "stdout",
     "output_type": "stream",
     "text": [
      "Contributions des variables aux composantes principales :\n",
      "           mw     xlogp  polararea  rotbonds  hbonddonor  hbondacc\n",
      "PC1  0.363131  0.383588   0.428047  0.422819    0.424522  0.422819\n",
      "PC2  0.734009 -0.607360  -0.002232  0.097410   -0.270854  0.097410\n",
      "PC3 -0.573594 -0.519135   0.266188  0.399757   -0.104981  0.399757\n",
      "PC4  0.007239  0.177603   0.773102 -0.206983   -0.533885 -0.206983\n"
     ]
    }
   ],
   "source": [
    "import pandas as pd\n",
    "import numpy as np\n",
    "from sklearn.decomposition import PCA\n",
    "from sklearn.preprocessing import StandardScaler\n",
    "import matplotlib.pyplot as plt\n",
    "\n",
    "# Exemple de dataset\n",
    "data = {\n",
    "    'mw': [120, 150, 200, 300],\n",
    "    'xlogp': [2.5, 3.0, 1.8, 4.1],\n",
    "    'polararea': [50, 75, 60, 90],\n",
    "    'rotbonds': [2, 4, 3, 5],\n",
    "    'hbonddonor': [1, 2, 1, 3],\n",
    "    'hbondacc': [3, 5, 4, 6],\n",
    "    'anti_ox': [1, 0, 1, 0],\n",
    "    'anti_inf': [0, 1, 0, 1]\n",
    "}\n",
    "\n",
    "# Chargement des données dans un DataFrame\n",
    "df = pd.DataFrame(data)\n",
    "\n",
    "# Variables explicatives (features) et cibles\n",
    "features = ['mw', 'xlogp', 'polararea', 'rotbonds', 'hbonddonor', 'hbondacc']\n",
    "target = ['anti_ox', 'anti_inf']\n",
    "\n",
    "X = df[features]\n",
    "y = df[target]\n",
    "\n",
    "# Normalisation des données\n",
    "scaler = StandardScaler()\n",
    "X_scaled = scaler.fit_transform(X)\n",
    "\n",
    "# Application de la PCA\n",
    "pca = PCA()\n",
    "X_pca = pca.fit_transform(X_scaled)\n",
    "\n",
    "# Variance expliquée par chaque composante principale\n",
    "explained_variance = pca.explained_variance_ratio_\n",
    "\n",
    "# Affichage des résultats\n",
    "print(\"Variance expliquée par chaque composante :\", explained_variance)\n",
    "print(\"Variance expliquée cumulée :\", np.cumsum(explained_variance))\n",
    "\n",
    "# Visualisation de la variance expliquée\n",
    "plt.figure(figsize=(8, 5))\n",
    "plt.plot(np.cumsum(explained_variance), marker='o', linestyle='--')\n",
    "plt.title('Variance expliquée cumulée')\n",
    "plt.xlabel('Nombre de composantes principales')\n",
    "plt.ylabel('Variance expliquée cumulée')\n",
    "plt.grid()\n",
    "plt.show()\n",
    "\n",
    "# Ajuster la forme du DataFrame en fonction du nombre de composantes\n",
    "n_components = X_pca.shape[1]  # Le nombre de composantes principales\n",
    "components_df = pd.DataFrame(\n",
    "    pca.components_, \n",
    "    columns=features, \n",
    "    index=[f'PC{i+1}' for i in range(n_components)]\n",
    ")\n",
    "\n",
    "print(\"Contributions des variables aux composantes principales :\")\n",
    "print(components_df)\n",
    "\n"
   ]
  }
 ],
 "metadata": {
  "kernelspec": {
   "display_name": "Python 3",
   "language": "python",
   "name": "python3"
  },
  "language_info": {
   "codemirror_mode": {
    "name": "ipython",
    "version": 3
   },
   "file_extension": ".py",
   "mimetype": "text/x-python",
   "name": "python",
   "nbconvert_exporter": "python",
   "pygments_lexer": "ipython3",
   "version": "3.12.6"
  }
 },
 "nbformat": 4,
 "nbformat_minor": 2
}
