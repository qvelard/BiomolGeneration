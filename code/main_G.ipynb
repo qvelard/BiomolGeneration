{
 "cells": [
  {
   "cell_type": "markdown",
   "metadata": {},
   "source": [
    "## 1. Generative Adversarial Network (GAN) for Biomolecule Generation\n",
    "We will use PyTorch for a basic implementation of a GAN that generates molecular fingerprints (simplified molecule representations). This example illustrates the basic GAN structure, but for real-world biomolecule generation, you may want to use molecular graph representations with libraries like RDKit or DGL."
   ]
  },
  {
   "cell_type": "code",
   "execution_count": 1,
   "metadata": {},
   "outputs": [
    {
     "name": "stdout",
     "output_type": "stream",
     "text": [
      "Defaulting to user installation because normal site-packages is not writeableNote: you may need to restart the kernel to use updated packages.\n",
      "\n",
      "Collecting rdkit\n",
      "  Downloading rdkit-2024.3.5-cp312-cp312-win_amd64.whl.metadata (4.0 kB)\n",
      "Requirement already satisfied: transformers in c:\\users\\quent\\appdata\\roaming\\python\\python312\\site-packages (4.45.1)\n",
      "Requirement already satisfied: torch in c:\\users\\quent\\appdata\\roaming\\python\\python312\\site-packages (2.2.1)\n",
      "Requirement already satisfied: huggingface_hub in c:\\users\\quent\\appdata\\roaming\\python\\python312\\site-packages (0.25.1)\n",
      "Requirement already satisfied: numpy in c:\\users\\quent\\appdata\\roaming\\python\\python312\\site-packages (from rdkit) (1.26.4)\n",
      "Requirement already satisfied: Pillow in c:\\users\\quent\\appdata\\roaming\\python\\python312\\site-packages (from rdkit) (10.2.0)\n",
      "Requirement already satisfied: filelock in c:\\users\\quent\\appdata\\roaming\\python\\python312\\site-packages (from transformers) (3.13.1)\n",
      "Requirement already satisfied: packaging>=20.0 in c:\\users\\quent\\appdata\\roaming\\python\\python312\\site-packages (from transformers) (24.0)\n",
      "Requirement already satisfied: pyyaml>=5.1 in c:\\users\\quent\\appdata\\roaming\\python\\python312\\site-packages (from transformers) (6.0.2)\n",
      "Requirement already satisfied: regex!=2019.12.17 in c:\\users\\quent\\appdata\\roaming\\python\\python312\\site-packages (from transformers) (2024.9.11)\n",
      "Requirement already satisfied: requests in c:\\users\\quent\\appdata\\roaming\\python\\python312\\site-packages (from transformers) (2.31.0)\n",
      "Requirement already satisfied: safetensors>=0.4.1 in c:\\users\\quent\\appdata\\roaming\\python\\python312\\site-packages (from transformers) (0.4.5)\n",
      "Requirement already satisfied: tokenizers<0.21,>=0.20 in c:\\users\\quent\\appdata\\roaming\\python\\python312\\site-packages (from transformers) (0.20.0)\n",
      "Requirement already satisfied: tqdm>=4.27 in c:\\users\\quent\\appdata\\roaming\\python\\python312\\site-packages (from transformers) (4.66.2)\n",
      "Requirement already satisfied: typing-extensions>=4.8.0 in c:\\users\\quent\\appdata\\roaming\\python\\python312\\site-packages (from torch) (4.10.0)\n",
      "Requirement already satisfied: sympy in c:\\users\\quent\\appdata\\roaming\\python\\python312\\site-packages (from torch) (1.12)\n",
      "Requirement already satisfied: networkx in c:\\users\\quent\\appdata\\roaming\\python\\python312\\site-packages (from torch) (3.2.1)\n",
      "Requirement already satisfied: jinja2 in c:\\users\\quent\\appdata\\roaming\\python\\python312\\site-packages (from torch) (3.1.3)\n",
      "Requirement already satisfied: fsspec in c:\\users\\quent\\appdata\\roaming\\python\\python312\\site-packages (from torch) (2024.3.1)\n",
      "Requirement already satisfied: colorama in c:\\users\\quent\\appdata\\roaming\\python\\python312\\site-packages (from tqdm>=4.27->transformers) (0.4.6)\n",
      "Requirement already satisfied: MarkupSafe>=2.0 in c:\\users\\quent\\appdata\\roaming\\python\\python312\\site-packages (from jinja2->torch) (2.1.5)\n",
      "Requirement already satisfied: charset-normalizer<4,>=2 in c:\\users\\quent\\appdata\\roaming\\python\\python312\\site-packages (from requests->transformers) (3.3.2)\n",
      "Requirement already satisfied: idna<4,>=2.5 in c:\\users\\quent\\appdata\\roaming\\python\\python312\\site-packages (from requests->transformers) (3.6)\n",
      "Requirement already satisfied: urllib3<3,>=1.21.1 in c:\\users\\quent\\appdata\\roaming\\python\\python312\\site-packages (from requests->transformers) (2.2.1)\n",
      "Requirement already satisfied: certifi>=2017.4.17 in c:\\users\\quent\\appdata\\roaming\\python\\python312\\site-packages (from requests->transformers) (2024.2.2)\n",
      "Requirement already satisfied: mpmath>=0.19 in c:\\users\\quent\\appdata\\roaming\\python\\python312\\site-packages (from sympy->torch) (1.3.0)\n",
      "Downloading rdkit-2024.3.5-cp312-cp312-win_amd64.whl (21.7 MB)\n",
      "   ---------------------------------------- 0.0/21.7 MB ? eta -:--:--\n",
      "   ---------------------------------------- 0.2/21.7 MB 4.8 MB/s eta 0:00:05\n",
      "    --------------------------------------- 0.4/21.7 MB 4.9 MB/s eta 0:00:05\n",
      "   - -------------------------------------- 0.6/21.7 MB 5.1 MB/s eta 0:00:05\n",
      "   - -------------------------------------- 1.0/21.7 MB 5.1 MB/s eta 0:00:05\n",
      "   -- ------------------------------------- 1.2/21.7 MB 5.3 MB/s eta 0:00:04\n",
      "   -- ------------------------------------- 1.5/21.7 MB 5.5 MB/s eta 0:00:04\n",
      "   --- ------------------------------------ 1.8/21.7 MB 5.7 MB/s eta 0:00:04\n",
      "   --- ------------------------------------ 2.0/21.7 MB 5.6 MB/s eta 0:00:04\n",
      "   ---- ----------------------------------- 2.3/21.7 MB 5.7 MB/s eta 0:00:04\n",
      "   ---- ----------------------------------- 2.6/21.7 MB 5.8 MB/s eta 0:00:04\n",
      "   ----- ---------------------------------- 2.8/21.7 MB 5.6 MB/s eta 0:00:04\n",
      "   ----- ---------------------------------- 3.1/21.7 MB 5.6 MB/s eta 0:00:04\n",
      "   ------ --------------------------------- 3.4/21.7 MB 5.7 MB/s eta 0:00:04\n",
      "   ------ --------------------------------- 3.7/21.7 MB 5.8 MB/s eta 0:00:04\n",
      "   ------- -------------------------------- 4.0/21.7 MB 5.8 MB/s eta 0:00:04\n",
      "   ------- -------------------------------- 4.0/21.7 MB 5.8 MB/s eta 0:00:04\n",
      "   -------- ------------------------------- 4.7/21.7 MB 6.0 MB/s eta 0:00:03\n",
      "   --------- ------------------------------ 5.0/21.7 MB 6.0 MB/s eta 0:00:03\n",
      "   --------- ------------------------------ 5.3/21.7 MB 6.0 MB/s eta 0:00:03\n",
      "   ---------- ----------------------------- 5.6/21.7 MB 6.0 MB/s eta 0:00:03\n",
      "   ---------- ----------------------------- 5.9/21.7 MB 6.0 MB/s eta 0:00:03\n",
      "   ----------- ---------------------------- 6.2/21.7 MB 6.1 MB/s eta 0:00:03\n",
      "   ----------- ---------------------------- 6.4/21.7 MB 6.1 MB/s eta 0:00:03\n",
      "   ------------ --------------------------- 6.8/21.7 MB 6.1 MB/s eta 0:00:03\n",
      "   ------------- -------------------------- 7.2/21.7 MB 6.1 MB/s eta 0:00:03\n",
      "   ------------- -------------------------- 7.5/21.7 MB 6.2 MB/s eta 0:00:03\n",
      "   -------------- ------------------------- 7.8/21.7 MB 6.2 MB/s eta 0:00:03\n",
      "   -------------- ------------------------- 8.2/21.7 MB 6.2 MB/s eta 0:00:03\n",
      "   --------------- ------------------------ 8.4/21.7 MB 6.2 MB/s eta 0:00:03\n",
      "   ---------------- ----------------------- 8.8/21.7 MB 6.3 MB/s eta 0:00:03\n",
      "   ---------------- ----------------------- 9.2/21.7 MB 6.3 MB/s eta 0:00:02\n",
      "   ----------------- ---------------------- 9.4/21.7 MB 6.3 MB/s eta 0:00:02\n",
      "   ----------------- ---------------------- 9.8/21.7 MB 6.3 MB/s eta 0:00:02\n",
      "   ------------------ --------------------- 10.1/21.7 MB 6.3 MB/s eta 0:00:02\n",
      "   ------------------- -------------------- 10.4/21.7 MB 6.4 MB/s eta 0:00:02\n",
      "   ------------------- -------------------- 10.6/21.7 MB 6.4 MB/s eta 0:00:02\n",
      "   -------------------- ------------------- 10.9/21.7 MB 6.4 MB/s eta 0:00:02\n",
      "   -------------------- ------------------- 11.2/21.7 MB 6.4 MB/s eta 0:00:02\n",
      "   --------------------- ------------------ 11.5/21.7 MB 6.4 MB/s eta 0:00:02\n",
      "   --------------------- ------------------ 11.8/21.7 MB 6.4 MB/s eta 0:00:02\n",
      "   ---------------------- ----------------- 12.1/21.7 MB 6.4 MB/s eta 0:00:02\n",
      "   ---------------------- ----------------- 12.4/21.7 MB 6.5 MB/s eta 0:00:02\n",
      "   ----------------------- ---------------- 12.7/21.7 MB 6.5 MB/s eta 0:00:02\n",
      "   ----------------------- ---------------- 13.0/21.7 MB 6.6 MB/s eta 0:00:02\n",
      "   ------------------------ --------------- 13.3/21.7 MB 6.5 MB/s eta 0:00:02\n",
      "   ------------------------- -------------- 13.6/21.7 MB 6.6 MB/s eta 0:00:02\n",
      "   ------------------------- -------------- 13.9/21.7 MB 6.6 MB/s eta 0:00:02\n",
      "   -------------------------- ------------- 14.3/21.7 MB 6.8 MB/s eta 0:00:02\n",
      "   -------------------------- ------------- 14.6/21.7 MB 6.7 MB/s eta 0:00:02\n",
      "   --------------------------- ------------ 15.0/21.7 MB 6.6 MB/s eta 0:00:02\n",
      "   ---------------------------- ----------- 15.3/21.7 MB 6.7 MB/s eta 0:00:01\n",
      "   ---------------------------- ----------- 15.7/21.7 MB 6.7 MB/s eta 0:00:01\n",
      "   ----------------------------- ---------- 16.0/21.7 MB 6.8 MB/s eta 0:00:01\n",
      "   ------------------------------ --------- 16.3/21.7 MB 6.7 MB/s eta 0:00:01\n",
      "   ------------------------------ --------- 16.6/21.7 MB 6.7 MB/s eta 0:00:01\n",
      "   ------------------------------- -------- 17.0/21.7 MB 6.7 MB/s eta 0:00:01\n",
      "   ------------------------------- -------- 17.3/21.7 MB 6.7 MB/s eta 0:00:01\n",
      "   -------------------------------- ------- 17.6/21.7 MB 6.8 MB/s eta 0:00:01\n",
      "   --------------------------------- ------ 18.0/21.7 MB 6.7 MB/s eta 0:00:01\n",
      "   --------------------------------- ------ 18.3/21.7 MB 6.8 MB/s eta 0:00:01\n",
      "   ---------------------------------- ----- 18.6/21.7 MB 6.8 MB/s eta 0:00:01\n",
      "   ---------------------------------- ----- 19.0/21.7 MB 6.8 MB/s eta 0:00:01\n",
      "   ----------------------------------- ---- 19.3/21.7 MB 6.8 MB/s eta 0:00:01\n",
      "   ------------------------------------ --- 19.6/21.7 MB 6.9 MB/s eta 0:00:01\n",
      "   ------------------------------------ --- 20.0/21.7 MB 6.8 MB/s eta 0:00:01\n",
      "   ------------------------------------- -- 20.3/21.7 MB 7.0 MB/s eta 0:00:01\n",
      "   ------------------------------------- -- 20.6/21.7 MB 7.0 MB/s eta 0:00:01\n",
      "   -------------------------------------- - 20.9/21.7 MB 7.0 MB/s eta 0:00:01\n",
      "   ---------------------------------------  21.3/21.7 MB 7.0 MB/s eta 0:00:01\n",
      "   ---------------------------------------  21.7/21.7 MB 7.0 MB/s eta 0:00:01\n",
      "   ---------------------------------------  21.7/21.7 MB 7.0 MB/s eta 0:00:01\n",
      "   ---------------------------------------  21.7/21.7 MB 7.0 MB/s eta 0:00:01\n",
      "   ---------------------------------------- 21.7/21.7 MB 6.5 MB/s eta 0:00:00\n",
      "Installing collected packages: rdkit\n",
      "Successfully installed rdkit-2024.3.5\n"
     ]
    },
    {
     "name": "stderr",
     "output_type": "stream",
     "text": [
      "\n",
      "[notice] A new release of pip is available: 24.0 -> 24.2\n",
      "[notice] To update, run: python.exe -m pip install --upgrade pip\n"
     ]
    }
   ],
   "source": [
    "pip install rdkit transformers torch huggingface_hub\n"
   ]
  },
  {
   "cell_type": "code",
   "execution_count": 2,
   "metadata": {},
   "outputs": [
    {
     "data": {
      "image/jpeg": "[encoded data removed]",
      "image/png": "[encoded data removed]",
      "text/plain": [
       "<PIL.PngImagePlugin.PngImageFile image mode=RGB size=300x300>"
      ]
     },
     "execution_count": 2,
     "metadata": {},
     "output_type": "execute_result"
    }
   ],
   "source": [
    "from rdkit import Chem\n",
    "from rdkit.Chem import Draw\n",
    "import random\n",
    "\n",
    "# Exemple simplifié pour illustrer la génération d'une molécule SMILES avec un GAN simulé\n",
    "def generate_molecule_with_gan():\n",
    "    smiles_list = [\"CCO\", \"CCN\", \"CCCN\", \"CCCC\", \"CCCl\", \"CCBr\"]  # Exemples de SMILES simples\n",
    "    generated_smiles = random.choice(smiles_list)  # Simule la génération\n",
    "    mol = Chem.MolFromSmiles(generated_smiles)\n",
    "    return mol\n",
    "\n",
    "# Visualiser la molécule générée\n",
    "mol = generate_molecule_with_gan()\n",
    "Draw.MolToImage(mol)\n"
   ]
  },
  {
   "cell_type": "markdown",
   "metadata": {},
   "source": [
    "**SMILES (Simplified Molecular Input Line Entry System)** is a notation system used to represent chemical structures as text strings. Here are the key features:\n",
    "\n",
    "1. **Atoms**: Each atom is represented by its chemical symbol (e.g., **C** for carbon, **O** for oxygen).\n",
    "\n",
    "2. **Bonds**: \n",
    "   - Single bonds are usually omitted (e.g., **CC** for two carbon atoms).\n",
    "   - Double and triple bonds are denoted by **=** and **#**, respectively (e.g., **C=C**).\n",
    "\n",
    "3. **Branches and Cycles**:\n",
    "   - Branches are indicated with parentheses (e.g., **CC(C)(C)** for isobutane).\n",
    "   - Cycles are represented with numbers (e.g., **C1CCCCC1** for cyclohexane).\n",
    "\n",
    "4. **Charges and Stereochemistry**: \n",
    "   - Charges are shown with **+** or **-** (e.g., **[Na+]**).\n",
    "   - Stereochemical configurations can be indicated with symbols (e.g., **@** for chiral centers).\n",
    "\n",
    "### Example SMILES\n",
    "- **Ethanol**: **CCO**\n",
    "- **Acetic acid**: **CC(=O)O**\n",
    "- **Cyclohexane**: **C1CCCCC1**\n",
    "\n"
   ]
  },
  {
   "cell_type": "markdown",
   "metadata": {},
   "source": [
    "## 2. Diffusion Model for Biomolecule Generation\n",
    "Diffusion models are more complex than GANs and require specific libraries. The Diffusers library, developed by Hugging Face, provides a convenient way to work with diffusion models.\n",
    "\n",
    "Code Example: Diffusion Model Using the Diffusers Library\n",
    "The following example demonstrates how to set up a diffusion model to generate biomolecule-like data using the diffusers library."
   ]
  },
  {
   "cell_type": "code",
   "execution_count": 14,
   "metadata": {},
   "outputs": [
    {
     "name": "stderr",
     "output_type": "stream",
     "text": [
      "Setting `pad_token_id` to `eos_token_id`:None for open-end generation.\n"
     ]
    },
    {
     "name": "stdout",
     "output_type": "stream",
     "text": [
      "Generated SMILES: [=C]\n",
      "The generated SMILES '[=C]' is not valid.\n",
      "The generated SMILES is not valid.\n"
     ]
    },
    {
     "name": "stderr",
     "output_type": "stream",
     "text": [
      "[13:45:22] SMILES Parse Error: syntax error while parsing: [=C]\n",
      "[13:45:22] SMILES Parse Error: Failed parsing SMILES '[=C]' for input: '[=C]'\n",
      "[13:45:22] SMILES Parse Error: syntax error while parsing: [=C]\n",
      "[13:45:22] SMILES Parse Error: Failed parsing SMILES '[=C]' for input: '[=C]'\n"
     ]
    }
   ],
   "source": [
    "\n",
    "from transformers import pipeline\n",
    "from rdkit import Chem\n",
    "from rdkit.Chem import Draw\n",
    "\n",
    "# Using a pre-trained Hugging Face model for SMILES generation\n",
    "generator = pipeline(\"text-generation\", model=\"ncfrey/ChemGPT-1.2B\")\n",
    "\n",
    "# Generate a sequence of SMILES\n",
    "prompt = \"Generate a molecule with antioxidant properties: \"\n",
    "generated_text = generator(prompt, max_length=30, num_return_sequences=1, truncation=True)\n",
    "\n",
    "# Extract the generated SMILES\n",
    "generated_smiles = generated_text[0]['generated_text'].split()[-1]  # Assumes the last part is SMILES\n",
    "print(\"Generated SMILES:\", generated_smiles)\n",
    "\n",
    "def is_valid_smiles(smiles):\n",
    "    return Chem.MolFromSmiles(smiles) is not None\n",
    "\n",
    "# Example of checking\n",
    "generated_smiles = \"[=C]\"\n",
    "if not is_valid_smiles(generated_smiles):\n",
    "    print(f\"The generated SMILES '{generated_smiles}' is not valid.\")\n",
    "\n",
    "# Check if the generated SMILES is valid\n",
    "if is_valid_smiles(generated_smiles):\n",
    "    mol = Chem.MolFromSmiles(generated_smiles)\n",
    "    # Show the generated molecule image\n",
    "    img = Draw.MolToImage(mol)\n",
    "    img.show()\n",
    "else:\n",
    "    print(\"The generated SMILES is not valid.\")\n",
    "\n",
    "\n",
    "\n"
   ]
  },
  {
   "cell_type": "markdown",
   "metadata": {},
   "source": [
    "# 3. Génération avec les VAEs\n",
    "\n",
    "Les modèles de VAEs pour la génération de molécules peuvent être trouvés sur Hugging Face sous forme de modèles de génération de texte. Voici un exemple simplifié."
   ]
  },
  {
   "cell_type": "code",
   "execution_count": 15,
   "metadata": {},
   "outputs": [
    {
     "name": "stderr",
     "output_type": "stream",
     "text": [
      "The attention mask and the pad token id were not set. As a consequence, you may observe unexpected behavior. Please pass your input's `attention_mask` to obtain reliable results.\n",
      "Setting `pad_token_id` to `eos_token_id`:None for open-end generation.\n",
      "The attention mask is not set and cannot be inferred from input because pad token is same as eos token. As a consequence, you may observe unexpected behavior. Please pass your input's `attention_mask` to obtain reliable results.\n"
     ]
    },
    {
     "name": "stdout",
     "output_type": "stream",
     "text": [
      "Generated SMILES: [C]\n"
     ]
    },
    {
     "name": "stderr",
     "output_type": "stream",
     "text": [
      "[13:47:44] unsupported number of radical electrons 4\n"
     ]
    }
   ],
   "source": [
    "from transformers import AutoTokenizer, AutoModelForCausalLM\n",
    "from rdkit import Chem\n",
    "from rdkit.Chem import Draw\n",
    "\n",
    "# Load a pre-trained VAE model\n",
    "model_name = \"ncfrey/ChemGPT-1.2B\"  # Example of a valid model\n",
    "tokenizer = AutoTokenizer.from_pretrained(model_name)\n",
    "model = AutoModelForCausalLM.from_pretrained(model_name)\n",
    "\n",
    "# Generate SMILES with the model\n",
    "input_prompt = \"Molecule with anti-inflammatory properties: \"\n",
    "input_ids = tokenizer.encode(input_prompt, return_tensors=\"pt\")\n",
    "output = model.generate(input_ids, max_length=50)\n",
    "\n",
    "# Decode the generated output to get the SMILES string\n",
    "generated_smiles = tokenizer.decode(output[0], skip_special_tokens=True).split()[-1]\n",
    "print(\"Generated SMILES:\", generated_smiles)\n",
    "\n",
    "# Validate the generated SMILES and create a molecule\n",
    "mol = Chem.MolFromSmiles(generated_smiles)\n",
    "if mol:\n",
    "    # Display the generated molecule image\n",
    "    img = Draw.MolToImage(mol)\n",
    "    img.show()  # Display the image if the environment supports it\n",
    "else:\n",
    "    print(\"The generated SMILES is not valid.\")\n",
    "\n"
   ]
  },
  {
   "cell_type": "markdown",
   "metadata": {},
   "source": [
    "## 4. Génération avec les GNNs\n",
    "Pour les GNNs, nous utiliserons DGL (Deep Graph Library) ou PyTorch Geometric pour générer des graphes moléculaires."
   ]
  },
  {
   "cell_type": "code",
   "execution_count": 16,
   "metadata": {},
   "outputs": [
    {
     "name": "stderr",
     "output_type": "stream",
     "text": [
      "[13:48:23] Molecule does not have explicit Hs. Consider calling AddHs()\n"
     ]
    }
   ],
   "source": [
    "import torch\n",
    "from rdkit import Chem\n",
    "from rdkit.Chem import AllChem\n",
    "from rdkit.Chem import Draw\n",
    "\n",
    "# Example function to simulate generating a molecular graph\n",
    "def generate_with_gnn():\n",
    "    # Create a molecular graph from SMILES (Cyclopropane)\n",
    "    mol = Chem.MolFromSmiles(\"C1CCC1\")  # Cyclopropane\n",
    "    AllChem.EmbedMolecule(mol)  # Generate a 3D conformation\n",
    "    return mol\n",
    "\n",
    "# Generate and visualize the molecule\n",
    "mol = generate_with_gnn()\n",
    "\n",
    "# Check if the molecule is valid and visualize\n",
    "if mol is not None:\n",
    "    img = Draw.MolToImage(mol)\n",
    "    img.show()  # Display the image if in a graphical environment\n",
    "else:\n",
    "    print(\"Failed to generate a valid molecule.\")\n"
   ]
  },
  {
   "cell_type": "markdown",
   "metadata": {},
   "source": [
    "## 5. Optimisation avec Reinforcement Learning (RL)\n",
    "L'optimisation avec RL peut être faite en utilisant une boucle d'apprentissage basée sur la récompense."
   ]
  },
  {
   "cell_type": "code",
   "execution_count": 9,
   "metadata": {},
   "outputs": [
    {
     "data": {
      "image/jpeg": "[encoded data removed]",
      "image/png": "[encoded data removed]",
      "text/plain": [
       "<PIL.PngImagePlugin.PngImageFile image mode=RGB size=300x300>"
      ]
     },
     "execution_count": 9,
     "metadata": {},
     "output_type": "execute_result"
    }
   ],
   "source": [
    "def optimize_molecule_with_rl(smiles):\n",
    "    # Simuler l'optimisation d'une molécule par RL\n",
    "    mol = Chem.MolFromSmiles(smiles)\n",
    "    optimized_smiles = Chem.MolToSmiles(mol) + \"C\"  # Ajoute un atome de carbone pour simuler l'optimisation\n",
    "    optimized_mol = Chem.MolFromSmiles(optimized_smiles)\n",
    "    return optimized_mol\n",
    "\n",
    "# Optimisation d'une molécule générée\n",
    "initial_smiles = \"CCO\"\n",
    "optimized_mol = optimize_molecule_with_rl(initial_smiles)\n",
    "Draw.MolToImage(optimized_mol)\n"
   ]
  },
  {
   "cell_type": "code",
   "execution_count": null,
   "metadata": {},
   "outputs": [],
   "source": []
  },
  {
   "cell_type": "markdown",
   "metadata": {},
   "source": [
    "# Combined ML methods to Biomol Generation"
   ]
  },
  {
   "cell_type": "markdown",
   "metadata": {},
   "source": [
    "Combining multiple generative models for molecular generation can significantly enhance the ability to design new compounds with desired properties. Here's a proposed approach that integrates **Generative Adversarial Networks (GANs)**, **Diffusion Models**, **Junction Tree Variational Autoencoders (JT-VAEs)**, **Transformers**, and **Graph Neural Networks (GNNs)**.\n",
    "\n",
    "### Proposed Combination of Methods\n",
    "\n",
    "1. **Junction Tree Variational Autoencoder (JT-VAE)**:\n",
    "   - **Role**: Used as an initial generative model to learn a representation of molecular structures.\n",
    "   - **Why**: JT-VAE is particularly suited for generating valid molecular graphs, as it encodes molecular structures as junction trees, allowing for better handling of complex branching and ring structures. It can also capture important molecular features that correlate with biological activities.\n",
    "\n",
    "2. **Graph Neural Networks (GNNs)**:\n",
    "   - **Role**: Fine-tunes the output from the JT-VAE to enhance the validity and properties of generated molecules.\n",
    "   - **Why**: GNNs excel at learning representations of graph-structured data (like molecules). They can predict molecular properties, optimize the structures generated by the JT-VAE, and ensure the generated molecules have desired characteristics such as antioxidant or anti-inflammatory activity.\n",
    "\n",
    "3. **Generative Adversarial Networks (GANs)**:\n",
    "   - **Role**: Generate new molecular candidates by learning from the representations produced by the JT-VAE and refined by GNNs.\n",
    "   - **Why**: GANs can create diverse molecular candidates by training a generator and discriminator in a competitive manner, encouraging the generation of more realistic and varied molecules. This helps explore the chemical space beyond the limitations of the training data.\n",
    "\n",
    "4. **Diffusion Models**:\n",
    "   - **Role**: Further refine and enhance the diversity of the generated molecules.\n",
    "   - **Why**: Diffusion models are powerful in generating high-quality samples and can learn complex distributions. By applying a diffusion process to the generated molecules, we can introduce new variations that maintain structural validity while enhancing specific desired properties.\n",
    "\n",
    "5. **Transformers**:\n",
    "   - **Role**: Use as a final step to optimize and refine the generated SMILES strings from the previous steps.\n",
    "   - **Why**: Transformers, particularly those trained on large datasets of chemical information, are adept at language modeling and can be utilized to ensure that the generated SMILES strings are valid and represent chemically plausible structures. They can also incorporate contextual information to refine molecular properties.\n",
    "\n",
    "### Workflow of the Combined Approach\n",
    "\n",
    "1. **Initial Generation with JT-VAE**:\n",
    "   - The process begins with a JT-VAE that generates an initial set of molecular structures based on learned representations.\n",
    "\n",
    "2. **Refinement with GNN**:\n",
    "   - These generated structures are then fed into a GNN, which optimizes them based on predefined molecular properties, such as stability, reactivity, or biological activity.\n",
    "\n",
    "3. **Diversity Enhancement with GAN**:\n",
    "   - The refined structures are then used as input for a GAN. The generator creates new candidates while the discriminator ensures that the generated molecules are realistic and diverse.\n",
    "\n",
    "4. **Quality Improvement with Diffusion Models**:\n",
    "   - The candidates produced by the GAN are further enhanced using diffusion models, which introduce variations and improve the quality of the molecules based on learned distributions.\n",
    "\n",
    "5. **Final Validation and Optimization with Transformers**:\n",
    "   - Finally, the generated SMILES strings are validated and potentially optimized by a transformer model, ensuring that they adhere to chemical rules and possess desired properties.\n",
    "\n",
    "### Rationale for the Combination\n",
    "\n",
    "- **Comprehensive Coverage**: This combination leverages the strengths of different models to cover various aspects of molecular generation—from initial structure representation to refinement and quality enhancement.\n",
    "  \n",
    "- **Diversity and Validity**: By using GANs and diffusion models, the approach ensures a wide diversity of generated molecules, while GNNs and JT-VAE maintain structural validity and compliance with chemical properties.\n",
    "\n",
    "- **Scalability**: Each component of the system can be independently optimized, allowing for scalability and the potential for future improvements as new models are developed.\n",
    "\n",
    "- **Adaptability**: This combined approach can be adapted to target specific properties, such as antioxidant or anti-inflammatory activities, by tailoring the training datasets and refining the evaluation criteria used at each stage.\n",
    "\n"
   ]
  },
  {
   "cell_type": "code",
   "execution_count": 25,
   "metadata": {},
   "outputs": [
    {
     "name": "stdout",
     "output_type": "stream",
     "text": [
      "Generated SMILES from VAE: CCO\n",
      "Refined SMILES from GNN: CCO\n",
      "Diverse candidates from GAN: ['CCO', 'NNO', 'CCOC']\n",
      "Enhanced candidates from Diffusion Model: ['CCOC', 'NNOC', 'CCOCC']\n",
      "Validated candidates from Transformer: ['CCOC', 'NNOC', 'CCOCC']\n",
      "Augmented data: ['CCOCC', 'NNOCC', 'CCOCCC']\n"
     ]
    }
   ],
   "source": [
    "\n",
    "import numpy as np\n",
    "from rdkit import Chem\n",
    "from rdkit.Chem import Draw\n",
    "import random\n",
    "\n",
    "# 1. Simple VAE for molecule generation (placeholder for JT-VAE)\n",
    "class SimpleVAE:\n",
    "    def generate(self):\n",
    "        # Generates a simple molecule (ethanol)\n",
    "        return \"CCO\"\n",
    "\n",
    "# 2. Dummy GNN for refining the generated molecule\n",
    "class DummyGNN:\n",
    "    def refine(self, smiles):\n",
    "        # Just return the same SMILES as a placeholder for refinement\n",
    "        return smiles\n",
    "\n",
    "# 3. Dummy GAN for generating diverse candidates (theoretical)\n",
    "class DummyGAN:\n",
    "    def generate_diverse(self, smiles):\n",
    "        # Creates simple variations by modifying the input\n",
    "        variations = [smiles, smiles.replace('C', 'N'), smiles + \"C\"]\n",
    "        return variations\n",
    "\n",
    "# 4. Dummy Diffusion Model for enhancing quality\n",
    "class DummyDiffusionModel:\n",
    "    def enhance(self, smiles):\n",
    "        # Placeholder enhancement (adding a carbon atom)\n",
    "        return smiles + \"C\"\n",
    "\n",
    "# 5. Dummy Transformer for validating generated SMILES\n",
    "class DummyTransformer:\n",
    "    def validate(self, smiles):\n",
    "        # A simple placeholder that assumes all generated SMILES are valid\n",
    "        return smiles if Chem.MolFromSmiles(smiles) else None\n",
    "\n",
    "# 6. Data augmentation function\n",
    "def data_augmentation(smiles):\n",
    "    # Example of simple augmentation: adding a methyl group\n",
    "    aug_smiles = smiles + \"C\"\n",
    "    return aug_smiles\n",
    "\n",
    "# Main workflow\n",
    "def main():\n",
    "    # Step 1: Generate a molecule with a simple VAE\n",
    "    vae = SimpleVAE()\n",
    "    generated_smiles = vae.generate()\n",
    "    print(\"Generated SMILES from VAE:\", generated_smiles)\n",
    "\n",
    "    # Step 2: Refine with a dummy GNN\n",
    "    gnn = DummyGNN()\n",
    "    refined_smiles = gnn.refine(generated_smiles)\n",
    "    print(\"Refined SMILES from GNN:\", refined_smiles)\n",
    "\n",
    "    # Step 3: Generate diverse candidates with a dummy GAN\n",
    "    gan = DummyGAN()\n",
    "    diverse_candidates = gan.generate_diverse(refined_smiles)\n",
    "    print(\"Diverse candidates from GAN:\", diverse_candidates)\n",
    "\n",
    "    # Step 4: Enhance quality with a dummy Diffusion Model\n",
    "    diffusion_model = DummyDiffusionModel()\n",
    "    enhanced_candidates = [diffusion_model.enhance(smiles) for smiles in diverse_candidates]\n",
    "    print(\"Enhanced candidates from Diffusion Model:\", enhanced_candidates)\n",
    "\n",
    "    # Step 5: Validate with a dummy Transformer\n",
    "    transformer = DummyTransformer()\n",
    "    validated_candidates = [transformer.validate(smiles) for smiles in enhanced_candidates]\n",
    "    print(\"Validated candidates from Transformer:\", validated_candidates)\n",
    "\n",
    "    # Step 6: Apply data augmentation\n",
    "    augmented_data = [data_augmentation(smiles) for smiles in validated_candidates if smiles]\n",
    "    print(\"Augmented data:\", augmented_data)\n",
    "\n",
    "    # Visualizing the generated molecules\n",
    "    for smiles in augmented_data:\n",
    "        mol = Chem.MolFromSmiles(smiles)\n",
    "        if mol:\n",
    "            img = Draw.MolToImage(mol)\n",
    "            img.show()\n",
    "        else:\n",
    "            print(f\"The generated SMILES '{smiles}' is not valid.\")\n",
    "\n",
    "if __name__ == \"__main__\":\n",
    "    main()\n"
   ]
  },
  {
   "cell_type": "markdown",
   "metadata": {},
   "source": [
    "Focusing on antioxidant and anti-inflammatory molecules requires a combination of cheminformatics and bioinformatics approaches. Here’s how you can target the generation or identification of such molecules using various methods, including using pre-trained models for SMILES generation, applying molecular filters, and using specific molecular databases.\n",
    "\n",
    "# Key Steps to Focus on Antioxidant and Anti-Inflammatory Molecules\n",
    "\n",
    "1. **Define the Molecular Characteristics**:\n",
    "   - **Antioxidant Properties**: Typically characterized by the ability to donate electrons, scavenge free radicals, and chelate metal ions.\n",
    "   - **Anti-Inflammatory Properties**: Often associated with molecules that inhibit inflammatory pathways, such as NF-kB or COX enzymes.\n",
    "\n",
    "2. **Use Targeted Prompts for SMILES Generation**:\n",
    "   - When using language models, frame your prompts to specifically ask for antioxidant or anti-inflammatory properties.\n",
    "\n",
    "3. **Screen Generated Molecules**:\n",
    "   - Utilize cheminformatics to filter or validate the generated molecules based on their predicted biological activity.\n",
    "\n",
    "4. **Utilize Molecular Databases**:\n",
    "   - Access databases like ChEMBL, PubChem, or DrugBank to find existing molecules with known antioxidant and anti-inflammatory properties.\n",
    "\n",
    "5. **Molecular Descriptors and Machine Learning**:\n",
    "   - Calculate molecular descriptors and use machine learning to predict activity based on training sets of known molecules.\n",
    "\n",
    "\n"
   ]
  },
  {
   "cell_type": "code",
   "execution_count": 23,
   "metadata": {},
   "outputs": [
    {
     "name": "stderr",
     "output_type": "stream",
     "text": [
      "Setting `pad_token_id` to `eos_token_id`:None for open-end generation.\n"
     ]
    },
    {
     "name": "stdout",
     "output_type": "stream",
     "text": [
      "Generated SMILES: [C]\n",
      "The generated molecule does not have the desired properties.\n"
     ]
    }
   ],
   "source": [
    "import random\n",
    "from rdkit import Chem\n",
    "from rdkit.Chem import Draw\n",
    "from transformers import pipeline\n",
    "\n",
    "# Function to generate SMILES with a focus on antioxidant and anti-inflammatory properties\n",
    "def generate_smiles_with_transformers(prompt):\n",
    "    generator = pipeline(\"text-generation\", model=\"ncfrey/ChemGPT-1.2B\")\n",
    "    output = generator(prompt, max_length=50, truncation=True, num_return_sequences=1)  # Try 5 sequences\n",
    "    for text in output:\n",
    "        generated_smiles = text['generated_text'].strip().split()[-1]\n",
    "        if Chem.MolFromSmiles(generated_smiles):  # Validate SMILES\n",
    "            return generated_smiles\n",
    "    return None  # If no valid SMILES found\n",
    "\n",
    "# Function to filter molecules for antioxidant and anti-inflammatory properties\n",
    "def is_antioxidant_or_anti_inflammatory(smiles):\n",
    "    mol = Chem.MolFromSmiles(smiles)\n",
    "    if mol:\n",
    "        # Check for specific functional groups or properties (like hydroxyl -OH)\n",
    "        if mol.HasSubstructMatch(Chem.MolFromSmarts('O')):  # Contains -OH groups\n",
    "            return True\n",
    "    return False\n",
    "\n",
    "# Main function\n",
    "def main():\n",
    "    # Prompt for antioxidant and anti-inflammatory molecules\n",
    "    prompt = \"Generate a valid molecule with antioxidant and anti-inflammatory properties:\"\n",
    "    \n",
    "    # Generate SMILES\n",
    "    generated_smiles = generate_smiles_with_transformers(prompt)\n",
    "    \n",
    "    if generated_smiles:\n",
    "        print(\"Generated SMILES:\", generated_smiles)\n",
    "\n",
    "        # Check if the generated molecule has the desired properties\n",
    "        if is_antioxidant_or_anti_inflammatory(generated_smiles):\n",
    "            print(\"The generated molecule is likely to have antioxidant and anti-inflammatory properties.\")\n",
    "            # Visualize the molecule\n",
    "            mol = Chem.MolFromSmiles(generated_smiles)\n",
    "            img = Draw.MolToImage(mol)\n",
    "            img.show()\n",
    "        else:\n",
    "            print(\"The generated molecule does not have the desired properties.\")\n",
    "    else:\n",
    "        print(\"No valid SMILES were generated.\")\n",
    "\n",
    "# Run the main function\n",
    "if __name__ == \"__main__\":\n",
    "    main()\n",
    "\n"
   ]
  },
  {
   "cell_type": "markdown",
   "metadata": {},
   "source": [
    "### Explanation of the Code\n",
    "\n",
    "1. **Generate SMILES**:\n",
    "   - The `generate_smiles_with_transformers` function uses a language model to generate a SMILES string based on a prompt that emphasizes antioxidant and anti-inflammatory properties.\n",
    "\n",
    "2. **Filtering Function**:\n",
    "   - The `is_antioxidant_or_anti_inflammatory` function is a placeholder for checking molecular features. In this case, it checks for hydroxyl groups (-OH), which are common in antioxidants.\n",
    "\n",
    "3. **Main Function**:\n",
    "   - The `main` function orchestrates the generation and validation process. It prompts the model, generates a SMILES string, checks its properties, and visualizes it if it meets the criteria.\n",
    "\n",
    "### Additional Considerations\n",
    "\n",
    "- **Predictive Models**: For more accurate filtering, consider integrating machine learning models trained on datasets of known antioxidants and anti-inflammatory compounds. Libraries like scikit-learn or deep learning frameworks (TensorFlow, PyTorch) can be employed for this purpose.\n",
    "  \n",
    "- **Databases**: Utilize chemical databases to cross-reference generated SMILES with known compounds. This can help validate potential hits based on existing literature.\n",
    "\n",
    "- **Functional Group Analysis**: Create a more sophisticated analysis by using RDKit’s ability to analyze molecular properties, such as molecular weight, logP, and specific functional groups.\n",
    "\n",
    "- **Chemical Reactions**: Consider the possibility of using reaction databases to generate new compounds from known starting materials through virtual chemical reactions.\n",
    "\n",
    "By focusing on specific molecular characteristics and utilizing various computational tools, you can effectively target the generation of antioxidant and anti-inflammatory biomolecules."
   ]
  }
 ],
 "metadata": {
  "kernelspec": {
   "display_name": "Python 3",
   "language": "python",
   "name": "python3"
  },
  "language_info": {
   "codemirror_mode": {
    "name": "ipython",
    "version": 3
   },
   "file_extension": ".py",
   "mimetype": "text/x-python",
   "name": "python",
   "nbconvert_exporter": "python",
   "pygments_lexer": "ipython3",
   "version": "3.12.2"
  }
 },
 "nbformat": 4,
 "nbformat_minor": 2
}
